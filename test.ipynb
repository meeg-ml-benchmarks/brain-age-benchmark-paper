{
 "cells": [
  {
   "cell_type": "code",
   "execution_count": 1,
   "metadata": {},
   "outputs": [],
   "source": [
    "import mne\n",
    "from mne_bids import BIDSPath"
   ]
  },
  {
   "cell_type": "code",
   "execution_count": 12,
   "metadata": {},
   "outputs": [
    {
     "name": "stdout",
     "output_type": "stream",
     "text": [
      "Reading /storage/store3/work/amellot/derivatives/perso_mri_bench/camcan_bids/emptyroom/sub-CC110033/ses-rest/meg/sub-CC110033_ses-rest_task-rest_epo.fif ...\n",
      "    Found the data of interest:\n",
      "        t =       0.00 ...   10000.00 ms\n",
      "        0 CTF compensation matrices available\n",
      "Adding metadata with 2 columns\n",
      "Replacing existing metadata with 2 columns\n",
      "56 matching events found\n",
      "No baseline correction applied\n",
      "0 projection items activated\n",
      "Reading inverse operator decomposition from /storage/store3/work/amellot/derivatives/perso_mri_bench/camcan_bids/emptyroom/sub-CC110033/ses-rest/meg/sub-CC110033_ses-rest_task-rest_inv.fif...\n",
      "    Reading inverse operator info...\n",
      "    [done]\n",
      "    Reading inverse operator decomposition...\n",
      "    [done]\n",
      "    102 x 102 full covariance (kind = 1) found.\n",
      "    Noise covariance matrix read.\n",
      "    24582 x 24582 diagonal covariance (kind = 2) found.\n",
      "    Source covariance matrix read.\n",
      "    24582 x 24582 diagonal covariance (kind = 6) found.\n",
      "    Orientation priors read.\n",
      "    24582 x 24582 diagonal covariance (kind = 5) found.\n",
      "    Depth priors read.\n",
      "    Did not find the desired covariance matrix (kind = 3)\n",
      "    Reading a source space...\n",
      "    [done]\n",
      "    Reading a source space...\n",
      "    [done]\n",
      "    2 source spaces read\n",
      "    Source spaces transformed to the inverse solution coordinate frame\n",
      "    304 x 304 full covariance (kind = 1) found.\n",
      "Preparing the inverse operator for use...\n",
      "    Scaled noise and source covariance from nave = 1 to nave = 1\n",
      "    Created the regularized inverter\n",
      "    The projection vectors do not apply to these channels.\n",
      "    Created the whitener using a noise covariance matrix with rank 71 (31 small eigenvalues omitted)\n",
      "    Computing noise-normalization factors (dSPM)...\n",
      "[done]\n",
      "Applying inverse operator to \"cov\"...\n",
      "    Picked 102 channels from the data\n",
      "    Computing inverse...\n",
      "    Eigenleads need to be weighted ...\n",
      "    Computing residual...\n",
      "    Explained  94.2% variance\n",
      "    dSPM...\n",
      "    Combining the current components...\n",
      "[done]\n"
     ]
    }
   ],
   "source": [
    "derivatives_path = '/storage/store3/work/amellot/derivatives/perso_mri_bench/camcan_bids/emptyroom'\n",
    "subjects_dir = '/storage/store/data/camcan-mne/freesurfer'\n",
    "subject = 'CC110033'\n",
    "\n",
    "fname_inv = BIDSPath(root=derivatives_path,\n",
    "                     subject=subject,\n",
    "                     suffix='inv',\n",
    "                     task='rest',\n",
    "                     session='rest',\n",
    "                     extension='.fif',\n",
    "                     datatype='meg',\n",
    "                     check=False)\n",
    "fname_epo = fname_inv.copy().update(suffix='epo')\n",
    "fname_cov = fname_inv.copy().update(suffix='cov')\n",
    "epochs = mne.read_epochs(fname_epo)\n",
    "inv = mne.minimum_norm.read_inverse_operator(fname_inv)\n",
    "cov = mne.read_cov(fname_cov)\n",
    "\n",
    "stc_data = mne.minimum_norm.apply_inverse_cov(cov, epochs.info, inv)\n",
    "\n",
    "brain = stc_data.plot(subject=subject, subjects_dir=subjects_dir,\n",
    "                      clim=dict(kind='percent', lims=(50, 90, 98)))"
   ]
  }
 ],
 "metadata": {
  "interpreter": {
   "hash": "e9697ae0ce0c4312e6d87c7b8fedc09a67cb4cca3fd3aeccb677699a1d210fe1"
  },
  "kernelspec": {
   "display_name": "Python 3.8.0 64-bit ('mne-server': conda)",
   "language": "python",
   "name": "python3"
  },
  "language_info": {
   "codemirror_mode": {
    "name": "ipython",
    "version": 3
   },
   "file_extension": ".py",
   "mimetype": "text/x-python",
   "name": "python",
   "nbconvert_exporter": "python",
   "pygments_lexer": "ipython3",
   "version": "3.8.11"
  },
  "orig_nbformat": 4
 },
 "nbformat": 4,
 "nbformat_minor": 2
}
